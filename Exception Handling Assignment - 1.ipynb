{
 "cells": [
  {
   "cell_type": "code",
   "execution_count": 1,
   "id": "f0eca372-c25d-4a98-95d4-fd30338ac1d1",
   "metadata": {},
   "outputs": [
    {
     "data": {
      "text/plain": [
       "'Q1. What is an Exception in python? Write the difference between Exceptions\\nnd syntax errors.\\n- Errors are the problems in a program due to which the program will stop the execution and exceptions\\nare raised when some internal events occur which changes the normal flow of the program'"
      ]
     },
     "execution_count": 1,
     "metadata": {},
     "output_type": "execute_result"
    }
   ],
   "source": [
    "'''Q1. What is an Exception in python? Write the difference between Exceptions\n",
    "nd syntax errors.\n",
    "- Errors are the problems in a program due to which the program will stop the execution and exceptions\n",
    "are raised when some internal events occur which changes the normal flow of the program'''"
   ]
  },
  {
   "cell_type": "code",
   "execution_count": 2,
   "id": "5a104376-0972-4d0a-9218-0442b6109e60",
   "metadata": {},
   "outputs": [
    {
     "ename": "ZeroDivisionError",
     "evalue": "division by zero",
     "output_type": "error",
     "traceback": [
      "\u001b[0;31m---------------------------------------------------------------------------\u001b[0m",
      "\u001b[0;31mZeroDivisionError\u001b[0m                         Traceback (most recent call last)",
      "Cell \u001b[0;32mIn[2], line 7\u001b[0m\n\u001b[1;32m      1\u001b[0m \u001b[38;5;124;03m'''Q2. What happens when an exception is not handled? Explain with an example.\u001b[39;00m\n\u001b[1;32m      2\u001b[0m \u001b[38;5;124;03m- if exception is not handled , it will interuppt and crash the program and shows the exception error on the console \u001b[39;00m\n\u001b[1;32m      3\u001b[0m \u001b[38;5;124;03mwhich will impact run time of the program and system.'''\u001b[39;00m\n\u001b[1;32m      5\u001b[0m a \u001b[38;5;241m=\u001b[39m \u001b[38;5;241m10\u001b[39m\n\u001b[0;32m----> 7\u001b[0m \u001b[43ma\u001b[49m\u001b[38;5;241;43m/\u001b[39;49m\u001b[38;5;241;43m0\u001b[39;49m\n",
      "\u001b[0;31mZeroDivisionError\u001b[0m: division by zero"
     ]
    }
   ],
   "source": [
    "'''Q2. What happens when an exception is not handled? Explain with an example.\n",
    "- if exception is not handled , it will interuppt and crash the program and shows the exception error on the console \n",
    "which will impact run time of the program and system.'''\n",
    "\n",
    "###for example - \n",
    "a = 10\n",
    "a/0"
   ]
  },
  {
   "cell_type": "code",
   "execution_count": 4,
   "id": "151a6829-f6e4-42d2-b95f-5e5581d3fe4c",
   "metadata": {},
   "outputs": [
    {
     "name": "stdout",
     "output_type": "stream",
     "text": [
      "division by zero\n"
     ]
    }
   ],
   "source": [
    "try :\n",
    "    a = 10\n",
    "    a/0\n",
    "except ZeroDivisionError as e:\n",
    "    print(e)\n",
    "    "
   ]
  },
  {
   "cell_type": "code",
   "execution_count": 5,
   "id": "4017a187-1a82-4ead-90e3-88ed73a27961",
   "metadata": {},
   "outputs": [
    {
     "name": "stdout",
     "output_type": "stream",
     "text": [
      "No module named 'himani'\n"
     ]
    }
   ],
   "source": [
    "'''Q3. Which Python statements are used to catch and handle exceptions? Explain with an example.\n",
    "- try and except block are used to catch and handle exceptions. '''\n",
    "\n",
    "try:\n",
    "    import himani \n",
    "    \n",
    "except ImportError as e:\n",
    "    print(e)\n",
    "    \n",
    "    "
   ]
  },
  {
   "cell_type": "code",
   "execution_count": 7,
   "id": "ac0e3546-f3dd-41bf-bb4e-bc729f2cf39e",
   "metadata": {},
   "outputs": [
    {
     "name": "stdout",
     "output_type": "stream",
     "text": [
      "if try block executed successully without any error\n",
      "it will run in any situation whether there is an error or not in try block\n"
     ]
    }
   ],
   "source": [
    "'''Q4. Explain with an example: \n",
    " a)try and else\n",
    " b) finally\n",
    " c) raise '''\n",
    "\n",
    "try:\n",
    "    f = open(\"hima.txt\", 'w')\n",
    "    f.write(\"this is my try block\")\n",
    "    \n",
    "except Exception as e:\n",
    "    print(\"this is my except block\")\n",
    "    \n",
    "else:\n",
    "    f.close()\n",
    "    print(\"if try block executed successully without any error\")\n",
    "    \n",
    "finally:\n",
    "    print(\"it will run in any situation whether there is an error or not in try block\")\n",
    "    \n",
    " "
   ]
  },
  {
   "cell_type": "code",
   "execution_count": 17,
   "id": "1e900dc7-008f-4432-802c-f290324181c3",
   "metadata": {},
   "outputs": [
    {
     "ename": "Exception",
     "evalue": "Sorry, no numbers below zero",
     "output_type": "error",
     "traceback": [
      "\u001b[0;31m---------------------------------------------------------------------------\u001b[0m",
      "\u001b[0;31mException\u001b[0m                                 Traceback (most recent call last)",
      "Cell \u001b[0;32mIn[17], line 4\u001b[0m\n\u001b[1;32m      1\u001b[0m x \u001b[38;5;241m=\u001b[39m \u001b[38;5;241m-\u001b[39m\u001b[38;5;241m1\u001b[39m\n\u001b[1;32m      3\u001b[0m \u001b[38;5;28;01mif\u001b[39;00m x \u001b[38;5;241m<\u001b[39m \u001b[38;5;241m0\u001b[39m:\n\u001b[0;32m----> 4\u001b[0m     \u001b[38;5;28;01mraise\u001b[39;00m \u001b[38;5;167;01mException\u001b[39;00m(\u001b[38;5;124m\"\u001b[39m\u001b[38;5;124mSorry, no numbers below zero\u001b[39m\u001b[38;5;124m\"\u001b[39m)\n",
      "\u001b[0;31mException\u001b[0m: Sorry, no numbers below zero"
     ]
    }
   ],
   "source": [
    "x = -1\n",
    "\n",
    "if x < 0:\n",
    "    raise Exception(\"Sorry, no numbers below zero\")\n",
    "\n"
   ]
  },
  {
   "cell_type": "code",
   "execution_count": null,
   "id": "94e9f81c-aca6-41d8-95d2-651605f5ed71",
   "metadata": {},
   "outputs": [],
   "source": [
    "'''Q5. What are Custom Exceptions in python? Why do we need Custom Exceptions? Explain with an example\n",
    "- Custom exceptions are user defined exceptions. There are few cases in which we need to define our own exception when \n",
    "we don't know what error a program could throw. "
   ]
  },
  {
   "cell_type": "code",
   "execution_count": 10,
   "id": "01cbad4c-675f-4dfa-b922-19a74abd109b",
   "metadata": {},
   "outputs": [],
   "source": [
    "class validateage(Exception):\n",
    "    def __init__(self, msg):\n",
    "        self.msg = msg"
   ]
  },
  {
   "cell_type": "code",
   "execution_count": 11,
   "id": "5c50f447-3d3e-484f-95ba-1abdfef20917",
   "metadata": {},
   "outputs": [],
   "source": [
    "def valid_age(age):\n",
    "    if age<0:\n",
    "        raise validateage(\"age can not be less than 0\")\n",
    "    elif age>199:\n",
    "        raise validateage(\"age cannot be beyond 199\")\n",
    "    else:\n",
    "        print(\"entered age is correct\")"
   ]
  },
  {
   "cell_type": "code",
   "execution_count": 14,
   "id": "57000d67-8c9b-4a72-9849-4b6ed562c860",
   "metadata": {},
   "outputs": [
    {
     "name": "stdin",
     "output_type": "stream",
     "text": [
      "enter your age:  -256\n"
     ]
    },
    {
     "name": "stdout",
     "output_type": "stream",
     "text": [
      "age can not be less than 0\n"
     ]
    }
   ],
   "source": [
    "try: \n",
    "    age = int(input(\"enter your age: \"))\n",
    "    valid_age()\n",
    "except validateage as e:\n",
    "    print(e)"
   ]
  },
  {
   "cell_type": "code",
   "execution_count": null,
   "id": "7f8ac277-c897-4fda-b81f-822e49d4dba0",
   "metadata": {},
   "outputs": [],
   "source": []
  }
 ],
 "metadata": {
  "kernelspec": {
   "display_name": "Python 3 (ipykernel)",
   "language": "python",
   "name": "python3"
  },
  "language_info": {
   "codemirror_mode": {
    "name": "ipython",
    "version": 3
   },
   "file_extension": ".py",
   "mimetype": "text/x-python",
   "name": "python",
   "nbconvert_exporter": "python",
   "pygments_lexer": "ipython3",
   "version": "3.10.8"
  }
 },
 "nbformat": 4,
 "nbformat_minor": 5
}
